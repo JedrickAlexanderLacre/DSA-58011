{
  "nbformat": 4,
  "nbformat_minor": 0,
  "metadata": {
    "colab": {
      "provenance": [],
      "authorship_tag": "ABX9TyMgKhvhsQ98F8Jpa+uyTeZP",
      "include_colab_link": true
    },
    "kernelspec": {
      "name": "python3",
      "display_name": "Python 3"
    },
    "language_info": {
      "name": "python"
    }
  },
  "cells": [
    {
      "cell_type": "markdown",
      "metadata": {
        "id": "view-in-github",
        "colab_type": "text"
      },
      "source": [
        "<a href=\"https://colab.research.google.com/github/Zxlyxc/DSA-58011/blob/main/Graphs.ipynb\" target=\"_parent\"><img src=\"https://colab.research.google.com/assets/colab-badge.svg\" alt=\"Open In Colab\"/></a>"
      ]
    },
    {
      "cell_type": "code",
      "execution_count": 5,
      "metadata": {
        "colab": {
          "base_uri": "https://localhost:8080/"
        },
        "id": "KuoaMBpPfpSd",
        "outputId": "5fd85b2c-b90b-4b36-df43-bfddc0cc2c31"
      },
      "outputs": [
        {
          "output_type": "stream",
          "name": "stdout",
          "text": [
            "{'a': ['b', 'c'], 'b': ['a', 'd'], 'c': ['a', 'd'], 'd': ['b', 'c', 'e'], 'e': ['e']}\n"
          ]
        }
      ],
      "source": [
        "#Data elements using dictionaries to implement graph\n",
        "\n",
        "Graph = {\n",
        "  'a':['b', 'c'],  \n",
        "  'b':['a', 'd'],  \n",
        "  'c':['a', 'd'],  \n",
        "  'd':['b', 'c','e'],  \n",
        "  'e':['e']\n",
        "}\n",
        "print(Graph)"
      ]
    },
    {
      "cell_type": "code",
      "source": [
        "Graph20 = {\n",
        "    '1':['4'],\n",
        "    '2':['1','3','4'],\n",
        "    '3':['2', '4'],\n",
        "    '4':[]\n",
        "}\n",
        "print(Graph20)"
      ],
      "metadata": {
        "colab": {
          "base_uri": "https://localhost:8080/"
        },
        "id": "MFl2nh4IhHxM",
        "outputId": "09aef0b7-e0dc-4d29-e38a-e61ef6fae610"
      },
      "execution_count": 6,
      "outputs": [
        {
          "output_type": "stream",
          "name": "stdout",
          "text": [
            "{'1': ['4'], '2': ['1', '3', '4'], '3': ['2', '4'], '4': []}\n"
          ]
        }
      ]
    }
  ]
}