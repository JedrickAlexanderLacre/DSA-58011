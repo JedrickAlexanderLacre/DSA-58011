{
  "nbformat": 4,
  "nbformat_minor": 0,
  "metadata": {
    "colab": {
      "name": "Area of the circle",
      "provenance": [],
      "authorship_tag": "ABX9TyPakqeumaQcVgocrmLuC9nW",
      "include_colab_link": true
    },
    "kernelspec": {
      "name": "python3",
      "display_name": "Python 3"
    },
    "language_info": {
      "name": "python"
    }
  },
  "cells": [
    {
      "cell_type": "markdown",
      "metadata": {
        "id": "view-in-github",
        "colab_type": "text"
      },
      "source": [
        "<a href=\"https://colab.research.google.com/github/Zxlyxc/DSA-58011/blob/main/Area_of_the_circle.ipynb\" target=\"_parent\"><img src=\"https://colab.research.google.com/assets/colab-badge.svg\" alt=\"Open In Colab\"/></a>"
      ]
    },
    {
      "cell_type": "code",
      "execution_count": 3,
      "metadata": {
        "colab": {
          "base_uri": "https://localhost:8080/"
        },
        "id": "Szj4ZTSs_TSu",
        "outputId": "d1c1d52b-c133-4db9-c12c-9d3e71456413"
      },
      "outputs": [
        {
          "output_type": "stream",
          "name": "stdout",
          "text": [
            "Enter the radius of a circle:5\n",
            "The area of a circle is: 78.5\n"
          ]
        }
      ],
      "source": [
        "#if the given is radius\n",
        "\n",
        "r = int(input(\"Enter the radius of a circle:\"))\n",
        "A= 3.14*r*r\n",
        "print(\"The area of a circle is:\",A)\n"
      ]
    },
    {
      "cell_type": "code",
      "source": [
        "#if the given is diameter\n",
        "pi = 3.14\n",
        "d = int(input(\"Enter the diameter of a circle:\"))\n",
        "A = (pi*d*d)/4\n",
        "print(\"The area of a circle is\",A)\n"
      ],
      "metadata": {
        "colab": {
          "base_uri": "https://localhost:8080/"
        },
        "id": "724pXzwY_2r3",
        "outputId": "c6891852-a97c-46d9-ca2b-d80bd0809414"
      },
      "execution_count": 5,
      "outputs": [
        {
          "output_type": "stream",
          "name": "stdout",
          "text": [
            "Enter the diameter of a circle:8\n",
            "The area of a circle is 50.24\n"
          ]
        }
      ]
    }
  ]
}