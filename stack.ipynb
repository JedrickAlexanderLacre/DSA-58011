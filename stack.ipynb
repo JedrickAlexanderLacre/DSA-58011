{
  "nbformat": 4,
  "nbformat_minor": 0,
  "metadata": {
    "colab": {
      "provenance": [],
      "authorship_tag": "ABX9TyMR8zIaWWKo8ctyFO8yY0D7",
      "include_colab_link": true
    },
    "kernelspec": {
      "name": "python3",
      "display_name": "Python 3"
    },
    "language_info": {
      "name": "python"
    }
  },
  "cells": [
    {
      "cell_type": "markdown",
      "metadata": {
        "id": "view-in-github",
        "colab_type": "text"
      },
      "source": [
        "<a href=\"https://colab.research.google.com/github/Zxlyxc/DSA-58011/blob/main/stack.ipynb\" target=\"_parent\"><img src=\"https://colab.research.google.com/assets/colab-badge.svg\" alt=\"Open In Colab\"/></a>"
      ]
    },
    {
      "cell_type": "code",
      "execution_count": 4,
      "metadata": {
        "colab": {
          "base_uri": "https://localhost:8080/"
        },
        "id": "qWSyGfrEWRXZ",
        "outputId": "52471693-103c-4aa5-af32-9c6d3c96cf17"
      },
      "outputs": [
        {
          "output_type": "stream",
          "name": "stdout",
          "text": [
            "Initial elements in the stack ['a', 'b', 'c']\n",
            "c\n",
            "After popping the last element\n",
            "['a', 'b']\n"
          ]
        }
      ],
      "source": [
        "#Python program to demonstrate stack Implementation using Array\n",
        "stack = []\n",
        "#insert/append elements in the stack\n",
        "\n",
        "stack.append('a')\n",
        "stack.append('b')\n",
        "stack.append('c')\n",
        "print('Initial elements in the stack', stack)\n",
        "\n",
        "#removing elements/pop () functions to pop elements from the stack\n",
        "print(stack.pop())\n",
        "print(\"After popping the last element\")\n",
        "print(stack)"
      ]
    },
    {
      "cell_type": "code",
      "source": [
        "#Python program to create a single Linked-list\n",
        "\n",
        "class Node:\n",
        "  def __init__(self,data):\n",
        "    self.data = data\n",
        "    self.next = None\n",
        "\n",
        "class linkedlist:\n",
        "  def __init__(self):\n",
        "    self.head = None\n",
        "  def printlist(self):\n",
        "    temp = self.head\n",
        "    while(temp):\n",
        "      print(temp.data)\n",
        "      temp = temp.next\n",
        "  def isempty(self):\n",
        "    if self.printlist == None:\n",
        "      return True\n",
        "    else:\n",
        "      return False\n",
        "  \n",
        "  def pop(self):\n",
        "    if self.isempty():\n",
        "      print(\"The stack is empty\")\n",
        "    else:  \n",
        "      popped_node = third\n",
        "      return popped_node.data\n",
        "\n",
        "#code to start the execution\n",
        "llist = linkedlist()\n",
        "llist.head = Node(1)\n",
        "second = Node(2)\n",
        "third = Node(3)\n",
        "\n",
        "llist.head.next = second\n",
        "second.next = third\n",
        "\n",
        "llist.printlist()\n",
        "print(\"The last element in the stack is\",llist.pop())"
      ],
      "metadata": {
        "colab": {
          "base_uri": "https://localhost:8080/"
        },
        "id": "MMompn43X1Qi",
        "outputId": "4ae33214-9a1b-43c7-dc92-eff49a381ae7"
      },
      "execution_count": 23,
      "outputs": [
        {
          "output_type": "stream",
          "name": "stdout",
          "text": [
            "1\n",
            "2\n",
            "3\n",
            "The last element in the stack is 3\n"
          ]
        }
      ]
    }
  ]
}