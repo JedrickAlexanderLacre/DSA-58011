{
  "nbformat": 4,
  "nbformat_minor": 0,
  "metadata": {
    "colab": {
      "provenance": [],
      "authorship_tag": "ABX9TyNicPQ+Jsvh8r3yJH5vm9UL",
      "include_colab_link": true
    },
    "kernelspec": {
      "name": "python3",
      "display_name": "Python 3"
    },
    "language_info": {
      "name": "python"
    }
  },
  "cells": [
    {
      "cell_type": "markdown",
      "metadata": {
        "id": "view-in-github",
        "colab_type": "text"
      },
      "source": [
        "<a href=\"https://colab.research.google.com/github/Zxlyxc/DSA-58011/blob/main/Prelim_Exam.ipynb\" target=\"_parent\"><img src=\"https://colab.research.google.com/assets/colab-badge.svg\" alt=\"Open In Colab\"/></a>"
      ]
    },
    {
      "cell_type": "code",
      "execution_count": 3,
      "metadata": {
        "colab": {
          "base_uri": "https://localhost:8080/"
        },
        "id": "1oQULS6RsWRn",
        "outputId": "fc1949ea-604a-4ae0-d8b7-a19e34d0ac15"
      },
      "outputs": [
        {
          "output_type": "stream",
          "name": "stdout",
          "text": [
            "composite integers less than 10 but greater than 1 [4, 6, 8, 9]\n",
            "Number of composite integers 4\n"
          ]
        }
      ],
      "source": [
        "num = [4,6,8,9]\n",
        "print( \"composite integers less than 10 but greater than 1\",num)\n",
        "print(\"Number of composite integers\",len(num))"
      ]
    }
  ]
}