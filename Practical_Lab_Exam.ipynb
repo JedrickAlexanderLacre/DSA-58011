{
  "nbformat": 4,
  "nbformat_minor": 0,
  "metadata": {
    "colab": {
      "name": "Practical Lab Exam",
      "provenance": [],
      "authorship_tag": "ABX9TyNSS6wHyOaK35jt6JBsCwho",
      "include_colab_link": true
    },
    "kernelspec": {
      "name": "python3",
      "display_name": "Python 3"
    },
    "language_info": {
      "name": "python"
    }
  },
  "cells": [
    {
      "cell_type": "markdown",
      "metadata": {
        "id": "view-in-github",
        "colab_type": "text"
      },
      "source": [
        "<a href=\"https://colab.research.google.com/github/Zxlyxc/DSA-58011/blob/main/Practical_Lab_Exam.ipynb\" target=\"_parent\"><img src=\"https://colab.research.google.com/assets/colab-badge.svg\" alt=\"Open In Colab\"/></a>"
      ]
    },
    {
      "cell_type": "code",
      "execution_count": 16,
      "metadata": {
        "colab": {
          "base_uri": "https://localhost:8080/"
        },
        "id": "qK1zlTH4j45P",
        "outputId": "cbcd39ff-e1bb-45ab-9116-62ca0ac8cbeb"
      },
      "outputs": [
        {
          "output_type": "stream",
          "name": "stdout",
          "text": [
            "Set of test scores = [26, 49, 98, 87, 62, 75]\n",
            "The Sum of Odd Test Scores = 211\n"
          ]
        }
      ],
      "source": [
        "testscores =[26, 49, 98, 87, 62, 75]\n",
        "print(\"Set of test scores =\",testscores)\n",
        "EvenSum = OddSum = 0  \n",
        "\n",
        "for tstscre in testscores:\n",
        "    if(tstscre % 2 ==0 ):\n",
        "      EvenSum = EvenSum + tstscre\n",
        "    else:\n",
        "      OddSum = OddSum + tstscre\n",
        "      \n",
        "\n",
        "print(\"The Sum of Odd Test Scores =\", OddSum )\n"
      ]
    }
  ]
}