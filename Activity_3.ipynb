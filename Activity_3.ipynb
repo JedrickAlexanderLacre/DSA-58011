{
  "nbformat": 4,
  "nbformat_minor": 0,
  "metadata": {
    "colab": {
      "provenance": [],
      "authorship_tag": "ABX9TyMbGjdSOyB1uvYvHSN9hnV4",
      "include_colab_link": true
    },
    "kernelspec": {
      "name": "python3",
      "display_name": "Python 3"
    },
    "language_info": {
      "name": "python"
    }
  },
  "cells": [
    {
      "cell_type": "markdown",
      "metadata": {
        "id": "view-in-github",
        "colab_type": "text"
      },
      "source": [
        "<a href=\"https://colab.research.google.com/github/Zxlyxc/DSA-58011/blob/main/Activity_3.ipynb\" target=\"_parent\"><img src=\"https://colab.research.google.com/assets/colab-badge.svg\" alt=\"Open In Colab\"/></a>"
      ]
    },
    {
      "cell_type": "code",
      "execution_count": 38,
      "metadata": {
        "id": "41UktlC7ZFRp",
        "outputId": "7205e493-4129-49a4-9f62-9504cd422a94",
        "colab": {
          "base_uri": "https://localhost:8080/"
        }
      },
      "outputs": [
        {
          "output_type": "stream",
          "name": "stdout",
          "text": [
            "Pushed Element: 1\n",
            "Pushed Element: 2\n",
            "Pushed Element: 3\n",
            "Pushed Element: 4\n",
            "Pushed Element: 5\n",
            "The elements in the stack are:['1', '2', '3', '4', '5']\n",
            "The 3 elements from the top of the stack ['1', '2', '3']\n"
          ]
        }
      ],
      "source": [
        "# Stack implementation in python\n",
        "# Creating a stack\n",
        "\n",
        "def create_stack():\n",
        "    stack = []\n",
        "    return stack\n",
        "\n",
        "# Creating an empty stack\n",
        "def is_empty(stack):\n",
        "    return len(stack) == 0\n",
        "# Adding items into the stack\n",
        "def push(stack, item):\n",
        "    stack.append(item)\n",
        "    print(\"Pushed Element: \" + item)\n",
        "# Removing an element from the stack\n",
        "def pop(stack):\n",
        "    if (is_empty(stack)):\n",
        "        return \"The stack is empty\"\n",
        "    return stack.pop()\n",
        "\n",
        "stack = create_stack()\n",
        "push(stack, str(1))\n",
        "push(stack, str(2))\n",
        "push(stack, str(3))\n",
        "push(stack, str(4))\n",
        "push(stack, str(5))\n",
        "print(\"The elements in the stack are:\"+ str(stack))\n",
        "\n",
        "#additional statement to pop the code\n",
        "stack.pop()\n",
        "stack.pop()\n",
        "print(\"The 3 elements from the top of the stack\",str(stack))"
      ]
    },
    {
      "cell_type": "code",
      "source": [
        "#Revised code\n",
        "stack = [1, 2, 3, 4, 5]\n",
        "print(\"The length of the stack is\",len(stack))"
      ],
      "metadata": {
        "colab": {
          "base_uri": "https://localhost:8080/"
        },
        "id": "puHqQtEOlp5-",
        "outputId": "7eed4115-9572-4c21-fda1-e03b0a223cc8"
      },
      "execution_count": 41,
      "outputs": [
        {
          "output_type": "stream",
          "name": "stdout",
          "text": [
            "The length of the stack is 5\n"
          ]
        }
      ]
    }
  ]
}