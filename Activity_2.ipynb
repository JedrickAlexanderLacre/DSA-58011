{
  "nbformat": 4,
  "nbformat_minor": 0,
  "metadata": {
    "colab": {
      "provenance": [],
      "authorship_tag": "ABX9TyM3PrZncczkGRWRDy/yZVug",
      "include_colab_link": true
    },
    "kernelspec": {
      "name": "python3",
      "display_name": "Python 3"
    },
    "language_info": {
      "name": "python"
    }
  },
  "cells": [
    {
      "cell_type": "markdown",
      "metadata": {
        "id": "view-in-github",
        "colab_type": "text"
      },
      "source": [
        "<a href=\"https://colab.research.google.com/github/Zxlyxc/DSA-58011/blob/main/Activity_2.ipynb\" target=\"_parent\"><img src=\"https://colab.research.google.com/assets/colab-badge.svg\" alt=\"Open In Colab\"/></a>"
      ]
    },
    {
      "cell_type": "code",
      "execution_count": 8,
      "metadata": {
        "colab": {
          "base_uri": "https://localhost:8080/"
        },
        "id": "P5YUJwEJrnWu",
        "outputId": "599ca862-b270-4dc2-c575-1d6130dc9851"
      },
      "outputs": [
        {
          "output_type": "stream",
          "name": "stdout",
          "text": [
            "(head) -> a -> e -> i -> o -> u -> (tail)\n"
          ]
        }
      ],
      "source": [
        "class Node:\n",
        "    def __init__(self, value=None):\n",
        "        self.value = value\n",
        "        self.nextNode = None\n",
        "\n",
        "\n",
        "class LinkedList:\n",
        "    def __init__(self):\n",
        "        self.head = None\n",
        "        self.tail = None\n",
        "\n",
        "    def insert(self, value):\n",
        "        new_node = Node(value)\n",
        "        if not self.head:\n",
        "            self.head = new_node\n",
        "        elif self.tail:\n",
        "            self.tail.nextNode = new_node\n",
        "            self.tail = new_node\n",
        "        else:\n",
        "            self.head.nextNode = new_node\n",
        "            self.tail = new_node\n",
        "\n",
        "\n",
        "list1 = LinkedList()\n",
        "list1.insert('a')\n",
        "list1.insert('e')\n",
        "list1.insert('i')\n",
        "list1.insert('o')\n",
        "list1.insert('u')\n",
        "\n",
        "node = list1.head\n",
        "print('(head)', end=' -> ')\n",
        "while node:\n",
        "    print(node.value, end=' -> ')\n",
        "    node = node.nextNode\n",
        "print('(tail)')\n"
      ]
    }
  ]
}